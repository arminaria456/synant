{
  "nbformat": 4,
  "nbformat_minor": 0,
  "metadata": {
    "colab": {
      "provenance": [],
      "authorship_tag": "ABX9TyMxMZLrdqoX9mkWNWmLYyhI",
      "include_colab_link": true
    },
    "kernelspec": {
      "name": "python3",
      "display_name": "Python 3"
    },
    "language_info": {
      "name": "python"
    }
  },
  "cells": [
    {
      "cell_type": "markdown",
      "metadata": {
        "id": "view-in-github",
        "colab_type": "text"
      },
      "source": [
        "<a href=\"https://colab.research.google.com/github/arminaria456/synant/blob/main/synant.ipynb\" target=\"_parent\"><img src=\"https://colab.research.google.com/assets/colab-badge.svg\" alt=\"Open In Colab\"/></a>"
      ]
    },
    {
      "cell_type": "code",
      "execution_count": 3,
      "metadata": {
        "colab": {
          "base_uri": "https://localhost:8080/"
        },
        "id": "7efzUO-Gn_QQ",
        "outputId": "9239182d-830f-4f55-a96a-9f0a5f8d346a"
      },
      "outputs": [
        {
          "output_type": "stream",
          "name": "stderr",
          "text": [
            "[nltk_data] Downloading package wordnet to /root/nltk_data...\n"
          ]
        },
        {
          "output_type": "execute_result",
          "data": {
            "text/plain": [
              "True"
            ]
          },
          "metadata": {},
          "execution_count": 3
        }
      ],
      "source": [
        "import nltk\n",
        "nltk.download('wordnet')"
      ]
    },
    {
      "cell_type": "code",
      "source": [
        "from nltk.corpus import wordnet\n",
        "syn = wordnet.synsets(\"courageous\")\n",
        "print(\"courageous wordnet:\\n\")\n",
        "print(syn[0].name())\n",
        "print(syn[0].lemmas())\n",
        "print(syn[0].definition())\n",
        "print(syn[0].examples(),\"\\n***************\")\n",
        "synonyms = []\n",
        "antonyms = []\n",
        "for s in wordnet.synsets('courageous'):\n",
        "    for l in s.lemmas():\n",
        "        synonyms.append(l.name())\n",
        "        if l.antonyms():\n",
        "            antonyms.append(l.antonyms()[0].name)\n",
        "print(\"synonyms of courageous = \",set(synonyms))\n",
        "print(\"antonyms of courageous = \",set(antonyms))"
      ],
      "metadata": {
        "colab": {
          "base_uri": "https://localhost:8080/"
        },
        "id": "774VfEFFoN4C",
        "outputId": "8bbfd61b-2ae1-44a1-fa5f-fcd1e94d2fdb"
      },
      "execution_count": 8,
      "outputs": [
        {
          "output_type": "stream",
          "name": "stdout",
          "text": [
            "courageous wordnet:\n",
            "\n",
            "brave.a.01\n",
            "[Lemma('brave.a.01.brave'), Lemma('brave.a.01.courageous')]\n",
            "possessing or displaying courage; able to face and deal with danger or fear without flinching; - Herman Melville; - William Wordsworth\n",
            "['Familiarity with danger makes a brave man braver but less daring', 'a frank courageous heart...triumphed over pain', 'set a courageous example by leading them safely into and out of enemy-held territory'] \n",
            "***************\n",
            "synonyms of courageous =  {'courageous', 'brave'}\n",
            "antonyms of courageous =  {<bound method Lemma.name of Lemma('cowardly.a.01.cowardly')>}\n"
          ]
        }
      ]
    }
  ]
}